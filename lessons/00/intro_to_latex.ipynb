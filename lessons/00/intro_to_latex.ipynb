{
  "cells": [
    {
      "cell_type": "markdown",
      "metadata": {
        "id": "hcaU3Big1W59"
      },
      "source": [
        "# Introduction to LaTeX\n",
        "\n",
        "In this tutorial, you will learn some of the basics on how to use $\\LaTeX$ to display equations in Jupyter notebooks. For looking up symbols you may need, you can use any of the many [cheat sheets](http://users.dickinson.edu/~richesod/latex/latexcheatsheet.pdf) you can find by asking Google. I have provided a few that will come up often in this course at the [end of this lesson](#Useful-LaTeX-symbols-for-BE/Bi-103).\n",
        "\n",
        "In this lesson, whenever a LaTeX expression is shown, the raw Markdown/LaTeX is shown beneath it. (The word LaTeX is generally stylized as $\\LaTeX$, but I get tired of reading that, so going forward, I will just write \"LaTeX.\")"
      ]
    },
    {
      "cell_type": "markdown",
      "metadata": {
        "id": "BxLynvZn1W6B"
      },
      "source": [
        "## Basic inline LaTeX\n",
        "\n",
        "To embed LaTeX within text, simply encapsulate the LaTeX portions in dollar signs (`$`). MathJax takes care of the rest. As an example, consider the sentence below and the markdown/LaTeX code to render it.\n",
        "\n",
        "Einstein told us that $E = mc^2$.\n",
        "\n",
        "    Einstein told us that $E = mc^2$.\n",
        "\n",
        "Notice how the equation is properly rendered, with mathematical variables in italics. Note also how `^2` was used to raise to a power. If the power has more than one character in it, it should be enclosed in braces (`{}`).  In fact, braces are used to generally group symbols in LaTeX.\n",
        "\n",
        "Euler told us that $\\mathrm{e}^{i \\pi} - 1 = 0$.\n",
        "\n",
        "    Euler told us that $\\mathrm{e}^{i \\pi} - 1 = 0$.\n",
        "\n",
        "Aside from the grouping braces, there are several other syntactical items of note. First, notice that I made the special character $\\pi$ with `\\pi`. In general, a backward slash precedes special symbols or commands in LaTeX. If we want another Greek letter, like $\\theta$, we use `\\theta`. Now, also note that I used \"`\\mathrm{e}`\" for the base of the natural logarithm.  I was signaling to LaTeX that I wanted the character written in Roman font, and not italics, so I used `\\mathrm`. Anything in the braces following the function `\\mathrm` is rendered in Roman font. Note the difference.\n",
        "\n",
        "This is $e$. This is $\\mathrm{e}$\n",
        "\n",
        "    This is $e$. This is $\\mathrm{e}$.\n",
        "\n",
        "Now, back to grouping things in braces. We can do similar groupings using braces with with subscripts.\n",
        "\n",
        "The dot product of two $n$-vectors is $\\mathbf{a} \\cdot \\mathbf{b} = \\sum_{i=1}^n a_i b_i$.\n",
        "\n",
        "    The dot product of two $n$-vectors is $\\mathbf{a} \\cdot \\mathbf{b} = \\sum_{i=1}^n a_i b_i$.\n",
        "\n",
        "Here, I have used `$\\mathbf{a}$` to make the character `a` boldface, denoting a vector. Note that we denote subscripts with an underscore. Notice also that the bounds of the sum use the same underscore and caret notation as for subscripts and superscripts.  "
      ]
    },
    {
      "cell_type": "markdown",
      "metadata": {
        "id": "nQfmRsAf1W6C"
      },
      "source": [
        "## Displaying equations on separate lines\n",
        "\n",
        "The bounds on the summation in the above example may look a little funny to you because they are not above and below the summation symbol.  This is because this particular equation is written inline.  If we had separated it from the text, it renders differently.\n",
        "\n",
        "We can make an equation appear centered on a new line, like\n",
        "\n",
        "\\begin{align}\n",
        "\\mathbf{a} \\cdot \\mathbf{b} = \\sum_{i=1}^n a_i b_i.\n",
        "\\end{align}\n",
        "\n",
        "\n",
        "    We can make an equation appear centered on a new line, like\n",
        "\n",
        "    \\begin{align}\n",
        "        \\mathbf{a} \\cdot \\mathbf{b} = \\sum_{i=1}^n a_i b_i.\n",
        "    \\end{align}\n",
        "\n",
        "The `align` environment in LaTeX specifies that you want centered equations, separated from the text. It is called `align` because it allows you to align the equations. You separate lines in the equations with a double backslash (`//`).  Insert an ampersand (`&`) in each line at the alignment point. All equations will be aligned at the location of the ampersand symbols (and, of course, the ampersands will not appear in the rendered equations).\n",
        "\n",
        "For a three-vector consisting of $x$, $y$, and $z$ components,\n",
        "\n",
        "\\begin{align}\n",
        "\\mathbf{a} \\cdot \\mathbf{b} &= \\sum_{i=1}^n a_i b_i \\\\\n",
        "&= a_x b_x + a_y b_y + a_z b_z.\n",
        "\\end{align}\n",
        "\n",
        "    For a three-vector consisting of $x$, $y$, and $z$ components,\n",
        "\n",
        "    \\begin{align}\n",
        "        \\mathbf{a} \\cdot \\mathbf{b} &= \\sum_{i=1}^n a_i b_i \\\\\n",
        "        &= a_x b_x + a_y b_y + a_z b_z.\n",
        "    \\end{align}\n",
        "\n",
        "Note that I always put an extra blank line before the `\\begin{align}` statement. This is not necessary, but I think things look better with the extra space."
      ]
    },
    {
      "cell_type": "markdown",
      "metadata": {
        "id": "89vaVOov1W6D"
      },
      "source": [
        "## Fractions (and an example of fine-tuning)\n",
        "\n",
        "To display fractional quantities, we use the `\\frac{}{}` command. `\\frac` is always followed by two sets of braces; the numerator is contained in the first, and the denominator is contained in the second. As an example, we can write an equation you will become intimately familiar with if you take the second term of this course,\n",
        "\n",
        "\\begin{align}\n",
        "P(A \\mid B) = \\frac{P(B \\mid A) \\, P(A)}{P(B)}\n",
        "\\end{align}\n",
        "\n",
        "    \\begin{align}\n",
        "        P(A \\mid B) = \\frac{P(B \\mid A) \\, P(A)}{P(B)}\n",
        "    \\end{align}\n",
        "\n",
        "The right hand side has a nicely-formatted fraction. I did a little extra fine-tuning in this equation.  I'll show the equation again without the fine-tuning, which used the `\\mid` and `\\,` commands.\n",
        "\n",
        "\\begin{align}\n",
        "P(A | B) = \\frac{P(B | A) P(A)}{P(B)}.\n",
        "\\end{align}\n",
        "\n",
        "    \\begin{align}\n",
        "        P(A | B) = \\frac{P(B | A) P(A)}{P(B)}.\n",
        "    \\end{align}\n",
        "\n",
        "First, the `\\mid` command should be used in conditional probabilities. Just using a vertical bar (`|`) results in crowding. Similarly, I used the `\\,` command to insert a little extra space between the two probabilities in the numerator. This makes the equation a bit easier to read. This `\\,` operator is especially important when defining integrals. We can put a little space between the $\\mathrm{d}x$ and the integrand.\n",
        "\n",
        "\\begin{align}\n",
        "\\text{good: } &\\int_0^{2\\pi} \\mathrm{d}x \\, \\sin x. \\\\[1em]\n",
        "\\text{bad: } &\\int_0^{2\\pi} \\mathrm{d}x \\sin x.\n",
        "\\end{align}\n",
        "\n",
        "    \\begin{align}\n",
        "        \\text{good: } &\\int_0^{2\\pi} \\mathrm{d}x \\, \\sin x. \\\\[1em]\n",
        "        \\text{bad: } &\\int_0^{2\\pi} \\mathrm{d}x \\sin x.\n",
        "    \\end{align}\n",
        "\n",
        "Note that I inserted extra space after the new line. Specifically, `\\\\[1em]` instructs LaTeX to insert a space equation to the width of an M character between the equations. I often do this to keep things clear.\n",
        "\n",
        "It is also very important to note that I used $\\sin$ and not $sin$. Mathematical functions should be in Roman font and are invoked with a backslash. Otherwise, the characters are interpreted as separate variables. To be clear:\n",
        "\n",
        "\\begin{align}\n",
        "\\text{good: } &\\sin x. \\\\[1em]\n",
        "\\text{bad: } & sin x.\n",
        "\\end{align}\n",
        "\n",
        "    \\begin{align}\n",
        "        \\text{good: } &\\sin x. \\\\[1em]\n",
        "        \\text{bad: } & sin x.\n",
        "    \\end{align}\n",
        "\n",
        "Finally, notice that I was able to put text in the equation like this: `\\text{good: }`."
      ]
    },
    {
      "cell_type": "markdown",
      "metadata": {
        "id": "XD1gOc2M1W6E"
      },
      "source": [
        "## Grouping operators (and more fine-tuning)\n",
        "\n",
        "Compare the following equations.\n",
        "\n",
        "\\begin{align}\n",
        "\\text{good: } &\\sum_{i=1}^n i^3 = \\left(\\sum_{i=1}^n i\\right)^2. \\\\[1em]\n",
        "\\text{bad: }  &\\sum_{i=1}^n i^3 = (\\sum_{i=1}^n i)^2.\n",
        "\\end{align}\n",
        "\n",
        "    \\begin{align}\n",
        "        \\text{good: } &\\sum_{i=1}^n i^3 = \\left(\\sum_{i=1}^n i\\right)^2. \\\\[1em]\n",
        "        \\text{bad: }  &\\sum_{i=1}^n i^3 = (\\sum_{i=1}^n i)^2.\n",
        "    \\end{align}\n",
        "\n",
        "In the second equation, I did not use the `\\left(` and `\\right)` construction for parentheses and the result looks pretty awful. In LaTeX, the height of anything that is encapsulated by `\\left(` and `\\right)` scales the parentheses appropriately. You can use `\\left` and `\\right` with many symbols. An important example is `\\left\\{`. Note that to display braces in an equation, you have to use `\\{` because just a plain brace (`{`) has a different meaning.\n",
        "\n",
        "(By the way, that equation is true, and pretty amazing. It says that the sum of the first $n$ *cubes* of integers is equal to the sum of the first $n$ integers *squared*!)\n",
        "\n",
        "Finally, if you use `\\left.` or `\\right.`, LaTeX will simply scale the opposite symbol to match the height of the text, but will suppress printing the other. For example,\n",
        "\n",
        "\\begin{align}\n",
        "\\left. \\frac{1}{x + 2} \\right|_0^2 = -\\frac{1}{4}.\n",
        "\\end{align}\n",
        "\n",
        "    \\begin{align}\n",
        "        \\left. \\frac{1}{x + 2} \\right|_0^2 = -\\frac{1}{4}.\n",
        "    \\end{align}\n",
        "\n",
        "This is also useful if you are going to use `/` for a division operation. Compare the following.\n",
        "\n",
        "\\begin{align}\n",
        "\\text{good: } & \\left. x^2 \\middle/ y^2 \\right. \\\\[1em]\n",
        "\\text{bad: } & x^2 / y^2\n",
        "\\end{align}\n",
        "\n",
        "    \\begin{align}\n",
        "        \\text{good: } & \\left. x^2 \\middle/ y^2 \\right. \\\\[1em]\n",
        "        \\text{bad: } & x^2 / y^2\n",
        "    \\end{align}\n",
        "\n",
        "Here, we used the `\\middle` operator to scale the length of the division sign."
      ]
    },
    {
      "cell_type": "markdown",
      "metadata": {
        "id": "aXQwe50w1W6E"
      },
      "source": [
        "## Matrices and arrays\n",
        "On occasion, you'll need to express matrices. This is most easily done using the `pmatrix` environment.  For example, a covariance matrix for two variables might be written as\n",
        "\n",
        "\\begin{align}\n",
        "\\sigma^2 = \\begin{pmatrix}\n",
        "\\sigma_1^2 & \\sigma_{12} \\\\\n",
        "\\sigma_{12} & \\sigma_2^2\n",
        "\\end{pmatrix}.\n",
        "\\end{align}\n",
        "\n",
        "    \\begin{align}\n",
        "        \\sigma^2 = \\begin{pmatrix}\n",
        "        \\sigma_1^2 & \\sigma_{12} \\\\\n",
        "        \\sigma_{12} & \\sigma_2^2\n",
        "        \\end{pmatrix}.\n",
        "    \\end{align}\n",
        "\n",
        "Once in the `pmatrix` environment, each row has entries separated by an ampersand. The row ends with a `\\\\`.  Each row must have the same number of entries.\n",
        "\n",
        "You may also need to represent an values stacked on top of each other. For example, we might specify a piecewise linear function like this.\n",
        "\n",
        "\\begin{align}\n",
        "\\text{rectifier}(x) = \\left\\{\n",
        "\\begin{array}{cl}\n",
        "0 & x \\le 0 \\\\\n",
        "x & x > 0.\n",
        "\\end{array}\n",
        "\\right.\n",
        "\\end{align}\n",
        "\n",
        "    \\begin{align}\n",
        "        \\text{rectifier}(x) = \\left\\{\n",
        "        \\begin{array}{cl}\n",
        "        0 & x \\le 0 \\\\\n",
        "        x & x > 0.\n",
        "        \\end{array}\n",
        "        \\right.\n",
        "    \\end{align}\n",
        "\n",
        "The `array` environment allows arrays of text. The `{cl}` after `\\begin{array}` indicates that two columns are wanted, with the first column being centered and the second being left-aligned. If we chose instead `{lr}`, the first column is left-aligned and the second column is right-aligned."
      ]
    },
    {
      "cell_type": "markdown",
      "metadata": {
        "id": "paauCUzK1W6E"
      },
      "source": [
        "## Useful LaTeX symbols for BE/Bi 103\n",
        "Following is a list of some symbols you may find useful in this class.\n",
        "\n",
        "LaTeX | symbol\n",
        "--- | :---:\n",
        "`\\approx` | $\\approx$\n",
        "`\\sim` | $\\sim$\n",
        "`\\propto` | $\\propto$\n",
        "`\\le` | $\\le$\n",
        "`ge` | $\\ge$\n",
        "`\\pm` | $\\pm$\n",
        "`\\in` | $\\in$\n",
        "`\\ln` | $\\ln$\n",
        "`\\exp` | $\\exp$\n",
        "`\\prod_{i\\in D}` | ${\\displaystyle \\prod_{i\\in D}}$\n",
        "`\\sum_{i\\in D}` | ${\\displaystyle \\sum_{i\\in D}}$\n",
        "`\\frac{\\partial f}{\\partial x}` | ${\\displaystyle \\frac{\\partial f}{\\partial x}}$\n",
        "`\\sqrt{x}` | $\\sqrt{x}$\n",
        "`\\bar{x}` | $\\bar{x}$\n",
        "`\\langle x \\rangle` | $\\langle x \\rangle$\n",
        "`\\left\\langle \\frac{x}{y} \\right\\rangle` | $\\left\\langle \\frac{x}{y} \\right\\rangle$"
      ]
    },
    {
      "cell_type": "code",
      "source": [
        "from sklearn.preprocessing import LabelEncoder\n",
        "from sdv.tabular import CTGAN\n",
        "from sdv.evaluation import evaluate"
      ],
      "metadata": {
        "colab": {
          "base_uri": "https://localhost:8080/",
          "height": 364
        },
        "id": "i2MValAI1XdP",
        "outputId": "dac98d11-6ecc-4c1e-d8f6-97c4a8e5bf39"
      },
      "execution_count": 1,
      "outputs": [
        {
          "output_type": "error",
          "ename": "ModuleNotFoundError",
          "evalue": "No module named 'sdv.tabular'",
          "traceback": [
            "\u001b[0;31m---------------------------------------------------------------------------\u001b[0m",
            "\u001b[0;31mModuleNotFoundError\u001b[0m                       Traceback (most recent call last)",
            "\u001b[0;32m/tmp/ipython-input-4052599336.py\u001b[0m in \u001b[0;36m<cell line: 0>\u001b[0;34m()\u001b[0m\n\u001b[1;32m      1\u001b[0m \u001b[0;32mfrom\u001b[0m \u001b[0msklearn\u001b[0m\u001b[0;34m.\u001b[0m\u001b[0mpreprocessing\u001b[0m \u001b[0;32mimport\u001b[0m \u001b[0mLabelEncoder\u001b[0m\u001b[0;34m\u001b[0m\u001b[0;34m\u001b[0m\u001b[0m\n\u001b[0;32m----> 2\u001b[0;31m \u001b[0;32mfrom\u001b[0m \u001b[0msdv\u001b[0m\u001b[0;34m.\u001b[0m\u001b[0mtabular\u001b[0m \u001b[0;32mimport\u001b[0m \u001b[0mCTGAN\u001b[0m\u001b[0;34m\u001b[0m\u001b[0;34m\u001b[0m\u001b[0m\n\u001b[0m\u001b[1;32m      3\u001b[0m \u001b[0;32mfrom\u001b[0m \u001b[0msdv\u001b[0m\u001b[0;34m.\u001b[0m\u001b[0mevaluation\u001b[0m \u001b[0;32mimport\u001b[0m \u001b[0mevaluate\u001b[0m\u001b[0;34m\u001b[0m\u001b[0;34m\u001b[0m\u001b[0m\n",
            "\u001b[0;31mModuleNotFoundError\u001b[0m: No module named 'sdv.tabular'",
            "",
            "\u001b[0;31m---------------------------------------------------------------------------\u001b[0;32m\nNOTE: If your import is failing due to a missing package, you can\nmanually install dependencies using either !pip or !apt.\n\nTo view examples of installing some common dependencies, click the\n\"Open Examples\" button below.\n\u001b[0;31m---------------------------------------------------------------------------\u001b[0m\n"
          ],
          "errorDetails": {
            "actions": [
              {
                "action": "open_url",
                "actionText": "Open Examples",
                "url": "/notebooks/snippets/importing_libraries.ipynb"
              }
            ]
          }
        }
      ]
    },
    {
      "cell_type": "code",
      "source": [],
      "metadata": {
        "id": "n3HIipcn2s_G"
      },
      "execution_count": null,
      "outputs": []
    },
    {
      "cell_type": "code",
      "metadata": {
        "id": "44b8db72"
      },
      "source": [
        "%pip install sdv"
      ],
      "execution_count": null,
      "outputs": []
    },
    {
      "cell_type": "code",
      "source": [
        "from sklearn.preprocessing import LabelEncoder\n",
        "from sdv.tabular import CTGAN\n",
        "from sdv.evaluation import evaluate"
      ],
      "metadata": {
        "colab": {
          "base_uri": "https://localhost:8080/",
          "height": 364
        },
        "id": "Y2TZMI8s2uiN",
        "outputId": "7a777a65-6867-46d8-b515-c7c1db3a8081"
      },
      "execution_count": 2,
      "outputs": [
        {
          "output_type": "error",
          "ename": "ModuleNotFoundError",
          "evalue": "No module named 'sdv.tabular'",
          "traceback": [
            "\u001b[0;31m---------------------------------------------------------------------------\u001b[0m",
            "\u001b[0;31mModuleNotFoundError\u001b[0m                       Traceback (most recent call last)",
            "\u001b[0;32m/tmp/ipython-input-2690619261.py\u001b[0m in \u001b[0;36m<cell line: 0>\u001b[0;34m()\u001b[0m\n\u001b[1;32m      1\u001b[0m \u001b[0;32mfrom\u001b[0m \u001b[0msklearn\u001b[0m\u001b[0;34m.\u001b[0m\u001b[0mpreprocessing\u001b[0m \u001b[0;32mimport\u001b[0m \u001b[0mLabelEncoder\u001b[0m\u001b[0;34m\u001b[0m\u001b[0;34m\u001b[0m\u001b[0m\n\u001b[0;32m----> 2\u001b[0;31m \u001b[0;32mfrom\u001b[0m \u001b[0msdv\u001b[0m\u001b[0;34m.\u001b[0m\u001b[0mtabular\u001b[0m \u001b[0;32mimport\u001b[0m \u001b[0mCTGAN\u001b[0m\u001b[0;34m\u001b[0m\u001b[0;34m\u001b[0m\u001b[0m\n\u001b[0m\u001b[1;32m      3\u001b[0m \u001b[0;32mfrom\u001b[0m \u001b[0msdv\u001b[0m\u001b[0;34m.\u001b[0m\u001b[0mevaluation\u001b[0m \u001b[0;32mimport\u001b[0m \u001b[0mevaluate\u001b[0m\u001b[0;34m\u001b[0m\u001b[0;34m\u001b[0m\u001b[0m\n",
            "\u001b[0;31mModuleNotFoundError\u001b[0m: No module named 'sdv.tabular'",
            "",
            "\u001b[0;31m---------------------------------------------------------------------------\u001b[0;32m\nNOTE: If your import is failing due to a missing package, you can\nmanually install dependencies using either !pip or !apt.\n\nTo view examples of installing some common dependencies, click the\n\"Open Examples\" button below.\n\u001b[0;31m---------------------------------------------------------------------------\u001b[0m\n"
          ],
          "errorDetails": {
            "actions": [
              {
                "action": "open_url",
                "actionText": "Open Examples",
                "url": "/notebooks/snippets/importing_libraries.ipynb"
              }
            ]
          }
        }
      ]
    },
    {
      "cell_type": "code",
      "metadata": {
        "colab": {
          "base_uri": "https://localhost:8080/"
        },
        "id": "bed16a80",
        "outputId": "969cae92-cf64-445d-d1d7-94a034faeda6"
      },
      "source": [
        "%pip install sdv"
      ],
      "execution_count": 3,
      "outputs": [
        {
          "output_type": "stream",
          "name": "stdout",
          "text": [
            "Requirement already satisfied: sdv in /usr/local/lib/python3.11/dist-packages (1.25.0)\n",
            "Requirement already satisfied: boto3<2.0.0,>=1.28 in /usr/local/lib/python3.11/dist-packages (from sdv) (1.40.4)\n",
            "Requirement already satisfied: botocore<2.0.0,>=1.31 in /usr/local/lib/python3.11/dist-packages (from sdv) (1.40.4)\n",
            "Requirement already satisfied: cloudpickle>=2.1.0 in /usr/local/lib/python3.11/dist-packages (from sdv) (3.1.1)\n",
            "Requirement already satisfied: graphviz>=0.13.2 in /usr/local/lib/python3.11/dist-packages (from sdv) (0.21)\n",
            "Requirement already satisfied: numpy>=1.24.0 in /usr/local/lib/python3.11/dist-packages (from sdv) (2.0.2)\n",
            "Requirement already satisfied: pandas>=1.5.0 in /usr/local/lib/python3.11/dist-packages (from sdv) (2.2.2)\n",
            "Requirement already satisfied: tqdm>=4.29 in /usr/local/lib/python3.11/dist-packages (from sdv) (4.67.1)\n",
            "Requirement already satisfied: copulas>=0.12.1 in /usr/local/lib/python3.11/dist-packages (from sdv) (0.12.3)\n",
            "Requirement already satisfied: ctgan>=0.11.0 in /usr/local/lib/python3.11/dist-packages (from sdv) (0.11.0)\n",
            "Requirement already satisfied: deepecho>=0.7.0 in /usr/local/lib/python3.11/dist-packages (from sdv) (0.7.0)\n",
            "Requirement already satisfied: rdt>=1.17.0 in /usr/local/lib/python3.11/dist-packages (from sdv) (1.17.1)\n",
            "Requirement already satisfied: sdmetrics>=0.21.0 in /usr/local/lib/python3.11/dist-packages (from sdv) (0.22.0)\n",
            "Requirement already satisfied: platformdirs>=4.0 in /usr/local/lib/python3.11/dist-packages (from sdv) (4.3.8)\n",
            "Requirement already satisfied: pyyaml>=6.0.1 in /usr/local/lib/python3.11/dist-packages (from sdv) (6.0.2)\n",
            "Requirement already satisfied: jmespath<2.0.0,>=0.7.1 in /usr/local/lib/python3.11/dist-packages (from boto3<2.0.0,>=1.28->sdv) (1.0.1)\n",
            "Requirement already satisfied: s3transfer<0.14.0,>=0.13.0 in /usr/local/lib/python3.11/dist-packages (from boto3<2.0.0,>=1.28->sdv) (0.13.1)\n",
            "Requirement already satisfied: python-dateutil<3.0.0,>=2.1 in /usr/local/lib/python3.11/dist-packages (from botocore<2.0.0,>=1.31->sdv) (2.9.0.post0)\n",
            "Requirement already satisfied: urllib3!=2.2.0,<3,>=1.25.4 in /usr/local/lib/python3.11/dist-packages (from botocore<2.0.0,>=1.31->sdv) (2.5.0)\n",
            "Requirement already satisfied: plotly>=5.10.0 in /usr/local/lib/python3.11/dist-packages (from copulas>=0.12.1->sdv) (5.24.1)\n",
            "Requirement already satisfied: scipy>=1.9.2 in /usr/local/lib/python3.11/dist-packages (from copulas>=0.12.1->sdv) (1.16.1)\n",
            "Requirement already satisfied: torch>=2.0.0 in /usr/local/lib/python3.11/dist-packages (from ctgan>=0.11.0->sdv) (2.6.0+cu124)\n",
            "Requirement already satisfied: pytz>=2020.1 in /usr/local/lib/python3.11/dist-packages (from pandas>=1.5.0->sdv) (2025.2)\n",
            "Requirement already satisfied: tzdata>=2022.7 in /usr/local/lib/python3.11/dist-packages (from pandas>=1.5.0->sdv) (2025.2)\n",
            "Requirement already satisfied: scikit-learn>=1.1.3 in /usr/local/lib/python3.11/dist-packages (from rdt>=1.17.0->sdv) (1.6.1)\n",
            "Requirement already satisfied: Faker>=17 in /usr/local/lib/python3.11/dist-packages (from rdt>=1.17.0->sdv) (37.5.3)\n",
            "Requirement already satisfied: tenacity>=6.2.0 in /usr/local/lib/python3.11/dist-packages (from plotly>=5.10.0->copulas>=0.12.1->sdv) (8.5.0)\n",
            "Requirement already satisfied: packaging in /usr/local/lib/python3.11/dist-packages (from plotly>=5.10.0->copulas>=0.12.1->sdv) (25.0)\n",
            "Requirement already satisfied: six>=1.5 in /usr/local/lib/python3.11/dist-packages (from python-dateutil<3.0.0,>=2.1->botocore<2.0.0,>=1.31->sdv) (1.17.0)\n",
            "Requirement already satisfied: joblib>=1.2.0 in /usr/local/lib/python3.11/dist-packages (from scikit-learn>=1.1.3->rdt>=1.17.0->sdv) (1.5.1)\n",
            "Requirement already satisfied: threadpoolctl>=3.1.0 in /usr/local/lib/python3.11/dist-packages (from scikit-learn>=1.1.3->rdt>=1.17.0->sdv) (3.6.0)\n",
            "Requirement already satisfied: filelock in /usr/local/lib/python3.11/dist-packages (from torch>=2.0.0->ctgan>=0.11.0->sdv) (3.18.0)\n",
            "Requirement already satisfied: typing-extensions>=4.10.0 in /usr/local/lib/python3.11/dist-packages (from torch>=2.0.0->ctgan>=0.11.0->sdv) (4.14.1)\n",
            "Requirement already satisfied: networkx in /usr/local/lib/python3.11/dist-packages (from torch>=2.0.0->ctgan>=0.11.0->sdv) (3.5)\n",
            "Requirement already satisfied: jinja2 in /usr/local/lib/python3.11/dist-packages (from torch>=2.0.0->ctgan>=0.11.0->sdv) (3.1.6)\n",
            "Requirement already satisfied: fsspec in /usr/local/lib/python3.11/dist-packages (from torch>=2.0.0->ctgan>=0.11.0->sdv) (2025.3.0)\n",
            "Requirement already satisfied: nvidia-cuda-nvrtc-cu12==12.4.127 in /usr/local/lib/python3.11/dist-packages (from torch>=2.0.0->ctgan>=0.11.0->sdv) (12.4.127)\n",
            "Requirement already satisfied: nvidia-cuda-runtime-cu12==12.4.127 in /usr/local/lib/python3.11/dist-packages (from torch>=2.0.0->ctgan>=0.11.0->sdv) (12.4.127)\n",
            "Requirement already satisfied: nvidia-cuda-cupti-cu12==12.4.127 in /usr/local/lib/python3.11/dist-packages (from torch>=2.0.0->ctgan>=0.11.0->sdv) (12.4.127)\n",
            "Requirement already satisfied: nvidia-cudnn-cu12==9.1.0.70 in /usr/local/lib/python3.11/dist-packages (from torch>=2.0.0->ctgan>=0.11.0->sdv) (9.1.0.70)\n",
            "Requirement already satisfied: nvidia-cublas-cu12==12.4.5.8 in /usr/local/lib/python3.11/dist-packages (from torch>=2.0.0->ctgan>=0.11.0->sdv) (12.4.5.8)\n",
            "Requirement already satisfied: nvidia-cufft-cu12==11.2.1.3 in /usr/local/lib/python3.11/dist-packages (from torch>=2.0.0->ctgan>=0.11.0->sdv) (11.2.1.3)\n",
            "Requirement already satisfied: nvidia-curand-cu12==10.3.5.147 in /usr/local/lib/python3.11/dist-packages (from torch>=2.0.0->ctgan>=0.11.0->sdv) (10.3.5.147)\n",
            "Requirement already satisfied: nvidia-cusolver-cu12==11.6.1.9 in /usr/local/lib/python3.11/dist-packages (from torch>=2.0.0->ctgan>=0.11.0->sdv) (11.6.1.9)\n",
            "Requirement already satisfied: nvidia-cusparse-cu12==12.3.1.170 in /usr/local/lib/python3.11/dist-packages (from torch>=2.0.0->ctgan>=0.11.0->sdv) (12.3.1.170)\n",
            "Requirement already satisfied: nvidia-cusparselt-cu12==0.6.2 in /usr/local/lib/python3.11/dist-packages (from torch>=2.0.0->ctgan>=0.11.0->sdv) (0.6.2)\n",
            "Requirement already satisfied: nvidia-nccl-cu12==2.21.5 in /usr/local/lib/python3.11/dist-packages (from torch>=2.0.0->ctgan>=0.11.0->sdv) (2.21.5)\n",
            "Requirement already satisfied: nvidia-nvtx-cu12==12.4.127 in /usr/local/lib/python3.11/dist-packages (from torch>=2.0.0->ctgan>=0.11.0->sdv) (12.4.127)\n",
            "Requirement already satisfied: nvidia-nvjitlink-cu12==12.4.127 in /usr/local/lib/python3.11/dist-packages (from torch>=2.0.0->ctgan>=0.11.0->sdv) (12.4.127)\n",
            "Requirement already satisfied: triton==3.2.0 in /usr/local/lib/python3.11/dist-packages (from torch>=2.0.0->ctgan>=0.11.0->sdv) (3.2.0)\n",
            "Requirement already satisfied: sympy==1.13.1 in /usr/local/lib/python3.11/dist-packages (from torch>=2.0.0->ctgan>=0.11.0->sdv) (1.13.1)\n",
            "Requirement already satisfied: mpmath<1.4,>=1.1.0 in /usr/local/lib/python3.11/dist-packages (from sympy==1.13.1->torch>=2.0.0->ctgan>=0.11.0->sdv) (1.3.0)\n",
            "Requirement already satisfied: MarkupSafe>=2.0 in /usr/local/lib/python3.11/dist-packages (from jinja2->torch>=2.0.0->ctgan>=0.11.0->sdv) (3.0.2)\n"
          ]
        }
      ]
    }
  ],
  "metadata": {
    "kernelspec": {
      "display_name": "Python 3 (ipykernel)",
      "language": "python",
      "name": "python3"
    },
    "language_info": {
      "codemirror_mode": {
        "name": "ipython",
        "version": 3
      },
      "file_extension": ".py",
      "mimetype": "text/x-python",
      "name": "python",
      "nbconvert_exporter": "python",
      "pygments_lexer": "ipython3",
      "version": "3.11.5"
    },
    "colab": {
      "provenance": []
    }
  },
  "nbformat": 4,
  "nbformat_minor": 0
}